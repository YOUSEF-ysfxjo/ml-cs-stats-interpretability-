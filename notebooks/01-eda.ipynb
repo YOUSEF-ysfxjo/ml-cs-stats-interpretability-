{
 "cells": [
  {
   "cell_type": "markdown",
   "id": "062e387d",
   "metadata": {},
   "source": [
    "## About The Dataset\n",
    "\n",
    " - The \"Framingham\" heart disease dataset includes over 4,240 records,16 columns and 15 attributes. The goal of the dataset is to predict whether the patient has 10-year risk of future (CHD) coronary heart disease"
   ]
  },
  {
   "cell_type": "markdown",
   "id": "1c2ef069",
   "metadata": {},
   "source": [
    "### Phase 1 EDA"
   ]
  },
  {
   "cell_type": "code",
   "execution_count": null,
   "id": "e6b776aa",
   "metadata": {},
   "outputs": [],
   "source": [
    "import pandas as pd\n",
    "import numpy as np\n",
    "import matplotlib.pyplot as plt\n",
    "import seaborn as sns\n",
    "from sklearn import preprocessing, model_selection\n",
    "import os\n",
    "from sklearn.model_selection import train_test_split\n",
    "from sklearn.preprocessing import StandardScaler\n",
    "from sklearn.impute import SimpleImputer\n",
    "from sklearn.pipeline import Pipeline\n",
    "from sklearn.ensemble import RandomForestClassifier\n",
    "from sklearn.linear_model import LogisticRegression\n",
    "from sklearn.metrics import accuracy_score"
   ]
  },
  {
   "cell_type": "code",
   "execution_count": 17,
   "id": "61d1d8e2",
   "metadata": {},
   "outputs": [],
   "source": [
    "data_path = os.path.join('..', 'data', 'raw', 'framingham.csv')\n",
    "data = pd.read_csv(data_path)\n"
   ]
  },
  {
   "cell_type": "code",
   "execution_count": 18,
   "id": "56053ffb",
   "metadata": {},
   "outputs": [
    {
     "data": {
      "text/html": [
       "<div>\n",
       "<style scoped>\n",
       "    .dataframe tbody tr th:only-of-type {\n",
       "        vertical-align: middle;\n",
       "    }\n",
       "\n",
       "    .dataframe tbody tr th {\n",
       "        vertical-align: top;\n",
       "    }\n",
       "\n",
       "    .dataframe thead th {\n",
       "        text-align: right;\n",
       "    }\n",
       "</style>\n",
       "<table border=\"1\" class=\"dataframe\">\n",
       "  <thead>\n",
       "    <tr style=\"text-align: right;\">\n",
       "      <th></th>\n",
       "      <th>male</th>\n",
       "      <th>age</th>\n",
       "      <th>education</th>\n",
       "      <th>currentSmoker</th>\n",
       "      <th>cigsPerDay</th>\n",
       "      <th>BPMeds</th>\n",
       "      <th>prevalentStroke</th>\n",
       "      <th>prevalentHyp</th>\n",
       "      <th>diabetes</th>\n",
       "      <th>totChol</th>\n",
       "      <th>sysBP</th>\n",
       "      <th>diaBP</th>\n",
       "      <th>BMI</th>\n",
       "      <th>heartRate</th>\n",
       "      <th>glucose</th>\n",
       "      <th>TenYearCHD</th>\n",
       "    </tr>\n",
       "  </thead>\n",
       "  <tbody>\n",
       "    <tr>\n",
       "      <th>0</th>\n",
       "      <td>1</td>\n",
       "      <td>39</td>\n",
       "      <td>4.0</td>\n",
       "      <td>0</td>\n",
       "      <td>0.0</td>\n",
       "      <td>0.0</td>\n",
       "      <td>0</td>\n",
       "      <td>0</td>\n",
       "      <td>0</td>\n",
       "      <td>195.0</td>\n",
       "      <td>106.0</td>\n",
       "      <td>70.0</td>\n",
       "      <td>26.97</td>\n",
       "      <td>80.0</td>\n",
       "      <td>77.0</td>\n",
       "      <td>0</td>\n",
       "    </tr>\n",
       "    <tr>\n",
       "      <th>1</th>\n",
       "      <td>0</td>\n",
       "      <td>46</td>\n",
       "      <td>2.0</td>\n",
       "      <td>0</td>\n",
       "      <td>0.0</td>\n",
       "      <td>0.0</td>\n",
       "      <td>0</td>\n",
       "      <td>0</td>\n",
       "      <td>0</td>\n",
       "      <td>250.0</td>\n",
       "      <td>121.0</td>\n",
       "      <td>81.0</td>\n",
       "      <td>28.73</td>\n",
       "      <td>95.0</td>\n",
       "      <td>76.0</td>\n",
       "      <td>0</td>\n",
       "    </tr>\n",
       "    <tr>\n",
       "      <th>2</th>\n",
       "      <td>1</td>\n",
       "      <td>48</td>\n",
       "      <td>1.0</td>\n",
       "      <td>1</td>\n",
       "      <td>20.0</td>\n",
       "      <td>0.0</td>\n",
       "      <td>0</td>\n",
       "      <td>0</td>\n",
       "      <td>0</td>\n",
       "      <td>245.0</td>\n",
       "      <td>127.5</td>\n",
       "      <td>80.0</td>\n",
       "      <td>25.34</td>\n",
       "      <td>75.0</td>\n",
       "      <td>70.0</td>\n",
       "      <td>0</td>\n",
       "    </tr>\n",
       "    <tr>\n",
       "      <th>3</th>\n",
       "      <td>0</td>\n",
       "      <td>61</td>\n",
       "      <td>3.0</td>\n",
       "      <td>1</td>\n",
       "      <td>30.0</td>\n",
       "      <td>0.0</td>\n",
       "      <td>0</td>\n",
       "      <td>1</td>\n",
       "      <td>0</td>\n",
       "      <td>225.0</td>\n",
       "      <td>150.0</td>\n",
       "      <td>95.0</td>\n",
       "      <td>28.58</td>\n",
       "      <td>65.0</td>\n",
       "      <td>103.0</td>\n",
       "      <td>1</td>\n",
       "    </tr>\n",
       "    <tr>\n",
       "      <th>4</th>\n",
       "      <td>0</td>\n",
       "      <td>46</td>\n",
       "      <td>3.0</td>\n",
       "      <td>1</td>\n",
       "      <td>23.0</td>\n",
       "      <td>0.0</td>\n",
       "      <td>0</td>\n",
       "      <td>0</td>\n",
       "      <td>0</td>\n",
       "      <td>285.0</td>\n",
       "      <td>130.0</td>\n",
       "      <td>84.0</td>\n",
       "      <td>23.10</td>\n",
       "      <td>85.0</td>\n",
       "      <td>85.0</td>\n",
       "      <td>0</td>\n",
       "    </tr>\n",
       "  </tbody>\n",
       "</table>\n",
       "</div>"
      ],
      "text/plain": [
       "   male  age  education  currentSmoker  cigsPerDay  BPMeds  prevalentStroke  \\\n",
       "0     1   39        4.0              0         0.0     0.0                0   \n",
       "1     0   46        2.0              0         0.0     0.0                0   \n",
       "2     1   48        1.0              1        20.0     0.0                0   \n",
       "3     0   61        3.0              1        30.0     0.0                0   \n",
       "4     0   46        3.0              1        23.0     0.0                0   \n",
       "\n",
       "   prevalentHyp  diabetes  totChol  sysBP  diaBP    BMI  heartRate  glucose  \\\n",
       "0             0         0    195.0  106.0   70.0  26.97       80.0     77.0   \n",
       "1             0         0    250.0  121.0   81.0  28.73       95.0     76.0   \n",
       "2             0         0    245.0  127.5   80.0  25.34       75.0     70.0   \n",
       "3             1         0    225.0  150.0   95.0  28.58       65.0    103.0   \n",
       "4             0         0    285.0  130.0   84.0  23.10       85.0     85.0   \n",
       "\n",
       "   TenYearCHD  \n",
       "0           0  \n",
       "1           0  \n",
       "2           0  \n",
       "3           1  \n",
       "4           0  "
      ]
     },
     "execution_count": 18,
     "metadata": {},
     "output_type": "execute_result"
    }
   ],
   "source": [
    "data.head()"
   ]
  },
  {
   "cell_type": "code",
   "execution_count": 23,
   "id": "50236bd9",
   "metadata": {},
   "outputs": [
    {
     "data": {
      "text/html": [
       "<div>\n",
       "<style scoped>\n",
       "    .dataframe tbody tr th:only-of-type {\n",
       "        vertical-align: middle;\n",
       "    }\n",
       "\n",
       "    .dataframe tbody tr th {\n",
       "        vertical-align: top;\n",
       "    }\n",
       "\n",
       "    .dataframe thead th {\n",
       "        text-align: right;\n",
       "    }\n",
       "</style>\n",
       "<table border=\"1\" class=\"dataframe\">\n",
       "  <thead>\n",
       "    <tr style=\"text-align: right;\">\n",
       "      <th></th>\n",
       "      <th>male</th>\n",
       "      <th>age</th>\n",
       "      <th>education</th>\n",
       "      <th>currentSmoker</th>\n",
       "      <th>cigsPerDay</th>\n",
       "      <th>BPMeds</th>\n",
       "      <th>prevalentStroke</th>\n",
       "      <th>prevalentHyp</th>\n",
       "      <th>diabetes</th>\n",
       "      <th>totChol</th>\n",
       "      <th>sysBP</th>\n",
       "      <th>diaBP</th>\n",
       "      <th>BMI</th>\n",
       "      <th>heartRate</th>\n",
       "      <th>glucose</th>\n",
       "      <th>TenYearCHD</th>\n",
       "    </tr>\n",
       "  </thead>\n",
       "  <tbody>\n",
       "    <tr>\n",
       "      <th>37</th>\n",
       "      <td>1</td>\n",
       "      <td>52</td>\n",
       "      <td>1.0</td>\n",
       "      <td>0</td>\n",
       "      <td>0.0</td>\n",
       "      <td>0.0</td>\n",
       "      <td>0</td>\n",
       "      <td>1</td>\n",
       "      <td>1</td>\n",
       "      <td>178.0</td>\n",
       "      <td>160.0</td>\n",
       "      <td>98.0</td>\n",
       "      <td>40.11</td>\n",
       "      <td>75.0</td>\n",
       "      <td>225.0</td>\n",
       "      <td>0</td>\n",
       "    </tr>\n",
       "    <tr>\n",
       "      <th>44</th>\n",
       "      <td>0</td>\n",
       "      <td>53</td>\n",
       "      <td>3.0</td>\n",
       "      <td>0</td>\n",
       "      <td>0.0</td>\n",
       "      <td>1.0</td>\n",
       "      <td>0</td>\n",
       "      <td>1</td>\n",
       "      <td>1</td>\n",
       "      <td>311.0</td>\n",
       "      <td>206.0</td>\n",
       "      <td>92.0</td>\n",
       "      <td>21.51</td>\n",
       "      <td>76.0</td>\n",
       "      <td>215.0</td>\n",
       "      <td>1</td>\n",
       "    </tr>\n",
       "    <tr>\n",
       "      <th>56</th>\n",
       "      <td>0</td>\n",
       "      <td>54</td>\n",
       "      <td>1.0</td>\n",
       "      <td>1</td>\n",
       "      <td>9.0</td>\n",
       "      <td>0.0</td>\n",
       "      <td>0</td>\n",
       "      <td>0</td>\n",
       "      <td>1</td>\n",
       "      <td>266.0</td>\n",
       "      <td>114.0</td>\n",
       "      <td>76.0</td>\n",
       "      <td>17.61</td>\n",
       "      <td>88.0</td>\n",
       "      <td>55.0</td>\n",
       "      <td>0</td>\n",
       "    </tr>\n",
       "    <tr>\n",
       "      <th>66</th>\n",
       "      <td>0</td>\n",
       "      <td>62</td>\n",
       "      <td>1.0</td>\n",
       "      <td>0</td>\n",
       "      <td>0.0</td>\n",
       "      <td>0.0</td>\n",
       "      <td>0</td>\n",
       "      <td>1</td>\n",
       "      <td>1</td>\n",
       "      <td>212.0</td>\n",
       "      <td>190.0</td>\n",
       "      <td>99.0</td>\n",
       "      <td>29.64</td>\n",
       "      <td>100.0</td>\n",
       "      <td>202.0</td>\n",
       "      <td>0</td>\n",
       "    </tr>\n",
       "    <tr>\n",
       "      <th>96</th>\n",
       "      <td>0</td>\n",
       "      <td>63</td>\n",
       "      <td>4.0</td>\n",
       "      <td>1</td>\n",
       "      <td>20.0</td>\n",
       "      <td>0.0</td>\n",
       "      <td>0</td>\n",
       "      <td>0</td>\n",
       "      <td>1</td>\n",
       "      <td>239.0</td>\n",
       "      <td>134.0</td>\n",
       "      <td>80.0</td>\n",
       "      <td>26.64</td>\n",
       "      <td>88.0</td>\n",
       "      <td>126.0</td>\n",
       "      <td>0</td>\n",
       "    </tr>\n",
       "  </tbody>\n",
       "</table>\n",
       "</div>"
      ],
      "text/plain": [
       "    male  age  education  currentSmoker  cigsPerDay  BPMeds  prevalentStroke  \\\n",
       "37     1   52        1.0              0         0.0     0.0                0   \n",
       "44     0   53        3.0              0         0.0     1.0                0   \n",
       "56     0   54        1.0              1         9.0     0.0                0   \n",
       "66     0   62        1.0              0         0.0     0.0                0   \n",
       "96     0   63        4.0              1        20.0     0.0                0   \n",
       "\n",
       "    prevalentHyp  diabetes  totChol  sysBP  diaBP    BMI  heartRate  glucose  \\\n",
       "37             1         1    178.0  160.0   98.0  40.11       75.0    225.0   \n",
       "44             1         1    311.0  206.0   92.0  21.51       76.0    215.0   \n",
       "56             0         1    266.0  114.0   76.0  17.61       88.0     55.0   \n",
       "66             1         1    212.0  190.0   99.0  29.64      100.0    202.0   \n",
       "96             0         1    239.0  134.0   80.0  26.64       88.0    126.0   \n",
       "\n",
       "    TenYearCHD  \n",
       "37           0  \n",
       "44           1  \n",
       "56           0  \n",
       "66           0  \n",
       "96           0  "
      ]
     },
     "execution_count": 23,
     "metadata": {},
     "output_type": "execute_result"
    }
   ],
   "source": [
    "data.loc[data['diabetes'] == 1].head()"
   ]
  },
  {
   "cell_type": "markdown",
   "id": "30095aaa",
   "metadata": {},
   "source": [
    "# Columns Explanation\n",
    "\n",
    "- **male**  \n",
    "  - 1 = Male  \n",
    "  - 0 = Female  \n",
    "\n",
    "- **age**  \n",
    "  - Age (in years)  \n",
    "\n",
    "- **education**  \n",
    "  - Education level (coded):  \n",
    "    - 1 = Some high school  \n",
    "    - 2 = High school graduate  \n",
    "    - 3 = Some college  \n",
    "    - 4 = College/University graduate  \n",
    "\n",
    "- **currentSmoker**  \n",
    "  - 1 = Current smoker  \n",
    "  - 0 = Non-smoker  \n",
    "\n",
    "- **cigsPerDay**  \n",
    "  - Number of cigarettes per day (if currentSmoker = 1)  \n",
    "\n",
    "- **BPMeds**  \n",
    "  - Taking blood pressure medication:  \n",
    "    - 1 = Yes  \n",
    "    - 0 = No  \n",
    "\n",
    "- **prevalentStroke**  \n",
    "  - History of stroke:  \n",
    "    - 1 = Yes  \n",
    "    - 0 = No  \n",
    "\n",
    "- **prevalentHyp**  \n",
    "  - Hypertension (chronic high blood pressure):  \n",
    "    - 1 = Yes  \n",
    "    - 0 = No  \n",
    "\n",
    "- **diabetes**  \n",
    "  - 1 = Has diabetes  \n",
    "  - 0 = Does not have diabetes  \n",
    "\n",
    "- **totChol** (Total cholesterol, mg/dL)  \n",
    "  - Normal: < 200  \n",
    "  - Borderline high: 200–239  \n",
    "  - High: ≥ 240  \n",
    "\n",
    "- **sysBP** (Systolic blood pressure)  \n",
    "  - Normal: < 120  \n",
    "  - Elevated: 120–129  \n",
    "  - Hypertension Stage 1: 130–139  \n",
    "  - Hypertension Stage 2: ≥ 140  \n",
    "\n",
    "- **diaBP** (Diastolic blood pressure)  \n",
    "  - Normal: < 80  \n",
    "  - Elevated: 80–89  \n",
    "  - Hypertension Stage 2: ≥ 90  \n",
    "\n",
    "- **BMI** (Body Mass Index)  \n",
    "  - Underweight: < 18.5  \n",
    "  - Normal: 18.5–24.9  \n",
    "  - Overweight: 25–29.9  \n",
    "  - Obese: ≥ 30  \n",
    "\n",
    "- **heartRate** (Beats per minute)  \n",
    "  - Normal resting range: 60–100  \n",
    "\n",
    "- **glucose** (Blood glucose, mg/dL, fasting)  \n",
    "  - Normal: < 100  \n",
    "  - Prediabetes: 100–125  \n",
    "  - Diabetes: ≥ 126  \n",
    "\n",
    "- **TenYearCHD** (10-year risk of coronary heart disease)  \n",
    "  - 1 = Risk present (likely CHD within 10 years)  \n",
    "  - 0 = No risk predicted  \n"
   ]
  },
  {
   "cell_type": "code",
   "execution_count": 25,
   "id": "dedffb91",
   "metadata": {},
   "outputs": [
    {
     "name": "stdout",
     "output_type": "stream",
     "text": [
      "<class 'pandas.core.frame.DataFrame'>\n",
      "RangeIndex: 4240 entries, 0 to 4239\n",
      "Data columns (total 16 columns):\n",
      " #   Column           Non-Null Count  Dtype  \n",
      "---  ------           --------------  -----  \n",
      " 0   male             4240 non-null   int64  \n",
      " 1   age              4240 non-null   int64  \n",
      " 2   education        4135 non-null   float64\n",
      " 3   currentSmoker    4240 non-null   int64  \n",
      " 4   cigsPerDay       4211 non-null   float64\n",
      " 5   BPMeds           4187 non-null   float64\n",
      " 6   prevalentStroke  4240 non-null   int64  \n",
      " 7   prevalentHyp     4240 non-null   int64  \n",
      " 8   diabetes         4240 non-null   int64  \n",
      " 9   totChol          4190 non-null   float64\n",
      " 10  sysBP            4240 non-null   float64\n",
      " 11  diaBP            4240 non-null   float64\n",
      " 12  BMI              4221 non-null   float64\n",
      " 13  heartRate        4239 non-null   float64\n",
      " 14  glucose          3852 non-null   float64\n",
      " 15  TenYearCHD       4240 non-null   int64  \n",
      "dtypes: float64(9), int64(7)\n",
      "memory usage: 530.1 KB\n"
     ]
    }
   ],
   "source": [
    "data.info()"
   ]
  },
  {
   "cell_type": "code",
   "execution_count": 27,
   "id": "3da99451",
   "metadata": {},
   "outputs": [
    {
     "data": {
      "text/plain": [
       "(4240, 16)"
      ]
     },
     "execution_count": 27,
     "metadata": {},
     "output_type": "execute_result"
    }
   ],
   "source": [
    "data.shape"
   ]
  },
  {
   "cell_type": "code",
   "execution_count": 28,
   "id": "de4d85ba",
   "metadata": {},
   "outputs": [
    {
     "data": {
      "text/html": [
       "<div>\n",
       "<style scoped>\n",
       "    .dataframe tbody tr th:only-of-type {\n",
       "        vertical-align: middle;\n",
       "    }\n",
       "\n",
       "    .dataframe tbody tr th {\n",
       "        vertical-align: top;\n",
       "    }\n",
       "\n",
       "    .dataframe thead th {\n",
       "        text-align: right;\n",
       "    }\n",
       "</style>\n",
       "<table border=\"1\" class=\"dataframe\">\n",
       "  <thead>\n",
       "    <tr style=\"text-align: right;\">\n",
       "      <th></th>\n",
       "      <th>male</th>\n",
       "      <th>age</th>\n",
       "      <th>education</th>\n",
       "      <th>currentSmoker</th>\n",
       "      <th>cigsPerDay</th>\n",
       "      <th>BPMeds</th>\n",
       "      <th>prevalentStroke</th>\n",
       "      <th>prevalentHyp</th>\n",
       "      <th>diabetes</th>\n",
       "      <th>totChol</th>\n",
       "      <th>sysBP</th>\n",
       "      <th>diaBP</th>\n",
       "      <th>BMI</th>\n",
       "      <th>heartRate</th>\n",
       "      <th>glucose</th>\n",
       "      <th>TenYearCHD</th>\n",
       "    </tr>\n",
       "  </thead>\n",
       "  <tbody>\n",
       "    <tr>\n",
       "      <th>count</th>\n",
       "      <td>4240.000000</td>\n",
       "      <td>4240.000000</td>\n",
       "      <td>4135.000000</td>\n",
       "      <td>4240.000000</td>\n",
       "      <td>4211.000000</td>\n",
       "      <td>4187.000000</td>\n",
       "      <td>4240.000000</td>\n",
       "      <td>4240.000000</td>\n",
       "      <td>4240.000000</td>\n",
       "      <td>4190.000000</td>\n",
       "      <td>4240.000000</td>\n",
       "      <td>4240.000000</td>\n",
       "      <td>4221.000000</td>\n",
       "      <td>4239.000000</td>\n",
       "      <td>3852.000000</td>\n",
       "      <td>4240.000000</td>\n",
       "    </tr>\n",
       "    <tr>\n",
       "      <th>mean</th>\n",
       "      <td>0.429245</td>\n",
       "      <td>49.580189</td>\n",
       "      <td>1.979444</td>\n",
       "      <td>0.494104</td>\n",
       "      <td>9.005937</td>\n",
       "      <td>0.029615</td>\n",
       "      <td>0.005896</td>\n",
       "      <td>0.310613</td>\n",
       "      <td>0.025708</td>\n",
       "      <td>236.699523</td>\n",
       "      <td>132.354599</td>\n",
       "      <td>82.897759</td>\n",
       "      <td>25.800801</td>\n",
       "      <td>75.878981</td>\n",
       "      <td>81.963655</td>\n",
       "      <td>0.151887</td>\n",
       "    </tr>\n",
       "    <tr>\n",
       "      <th>std</th>\n",
       "      <td>0.495027</td>\n",
       "      <td>8.572942</td>\n",
       "      <td>1.019791</td>\n",
       "      <td>0.500024</td>\n",
       "      <td>11.922462</td>\n",
       "      <td>0.169544</td>\n",
       "      <td>0.076569</td>\n",
       "      <td>0.462799</td>\n",
       "      <td>0.158280</td>\n",
       "      <td>44.591284</td>\n",
       "      <td>22.033300</td>\n",
       "      <td>11.910394</td>\n",
       "      <td>4.079840</td>\n",
       "      <td>12.025348</td>\n",
       "      <td>23.954335</td>\n",
       "      <td>0.358953</td>\n",
       "    </tr>\n",
       "    <tr>\n",
       "      <th>min</th>\n",
       "      <td>0.000000</td>\n",
       "      <td>32.000000</td>\n",
       "      <td>1.000000</td>\n",
       "      <td>0.000000</td>\n",
       "      <td>0.000000</td>\n",
       "      <td>0.000000</td>\n",
       "      <td>0.000000</td>\n",
       "      <td>0.000000</td>\n",
       "      <td>0.000000</td>\n",
       "      <td>107.000000</td>\n",
       "      <td>83.500000</td>\n",
       "      <td>48.000000</td>\n",
       "      <td>15.540000</td>\n",
       "      <td>44.000000</td>\n",
       "      <td>40.000000</td>\n",
       "      <td>0.000000</td>\n",
       "    </tr>\n",
       "    <tr>\n",
       "      <th>25%</th>\n",
       "      <td>0.000000</td>\n",
       "      <td>42.000000</td>\n",
       "      <td>1.000000</td>\n",
       "      <td>0.000000</td>\n",
       "      <td>0.000000</td>\n",
       "      <td>0.000000</td>\n",
       "      <td>0.000000</td>\n",
       "      <td>0.000000</td>\n",
       "      <td>0.000000</td>\n",
       "      <td>206.000000</td>\n",
       "      <td>117.000000</td>\n",
       "      <td>75.000000</td>\n",
       "      <td>23.070000</td>\n",
       "      <td>68.000000</td>\n",
       "      <td>71.000000</td>\n",
       "      <td>0.000000</td>\n",
       "    </tr>\n",
       "    <tr>\n",
       "      <th>50%</th>\n",
       "      <td>0.000000</td>\n",
       "      <td>49.000000</td>\n",
       "      <td>2.000000</td>\n",
       "      <td>0.000000</td>\n",
       "      <td>0.000000</td>\n",
       "      <td>0.000000</td>\n",
       "      <td>0.000000</td>\n",
       "      <td>0.000000</td>\n",
       "      <td>0.000000</td>\n",
       "      <td>234.000000</td>\n",
       "      <td>128.000000</td>\n",
       "      <td>82.000000</td>\n",
       "      <td>25.400000</td>\n",
       "      <td>75.000000</td>\n",
       "      <td>78.000000</td>\n",
       "      <td>0.000000</td>\n",
       "    </tr>\n",
       "    <tr>\n",
       "      <th>75%</th>\n",
       "      <td>1.000000</td>\n",
       "      <td>56.000000</td>\n",
       "      <td>3.000000</td>\n",
       "      <td>1.000000</td>\n",
       "      <td>20.000000</td>\n",
       "      <td>0.000000</td>\n",
       "      <td>0.000000</td>\n",
       "      <td>1.000000</td>\n",
       "      <td>0.000000</td>\n",
       "      <td>263.000000</td>\n",
       "      <td>144.000000</td>\n",
       "      <td>90.000000</td>\n",
       "      <td>28.040000</td>\n",
       "      <td>83.000000</td>\n",
       "      <td>87.000000</td>\n",
       "      <td>0.000000</td>\n",
       "    </tr>\n",
       "    <tr>\n",
       "      <th>max</th>\n",
       "      <td>1.000000</td>\n",
       "      <td>70.000000</td>\n",
       "      <td>4.000000</td>\n",
       "      <td>1.000000</td>\n",
       "      <td>70.000000</td>\n",
       "      <td>1.000000</td>\n",
       "      <td>1.000000</td>\n",
       "      <td>1.000000</td>\n",
       "      <td>1.000000</td>\n",
       "      <td>696.000000</td>\n",
       "      <td>295.000000</td>\n",
       "      <td>142.500000</td>\n",
       "      <td>56.800000</td>\n",
       "      <td>143.000000</td>\n",
       "      <td>394.000000</td>\n",
       "      <td>1.000000</td>\n",
       "    </tr>\n",
       "  </tbody>\n",
       "</table>\n",
       "</div>"
      ],
      "text/plain": [
       "              male          age    education  currentSmoker   cigsPerDay  \\\n",
       "count  4240.000000  4240.000000  4135.000000    4240.000000  4211.000000   \n",
       "mean      0.429245    49.580189     1.979444       0.494104     9.005937   \n",
       "std       0.495027     8.572942     1.019791       0.500024    11.922462   \n",
       "min       0.000000    32.000000     1.000000       0.000000     0.000000   \n",
       "25%       0.000000    42.000000     1.000000       0.000000     0.000000   \n",
       "50%       0.000000    49.000000     2.000000       0.000000     0.000000   \n",
       "75%       1.000000    56.000000     3.000000       1.000000    20.000000   \n",
       "max       1.000000    70.000000     4.000000       1.000000    70.000000   \n",
       "\n",
       "            BPMeds  prevalentStroke  prevalentHyp     diabetes      totChol  \\\n",
       "count  4187.000000      4240.000000   4240.000000  4240.000000  4190.000000   \n",
       "mean      0.029615         0.005896      0.310613     0.025708   236.699523   \n",
       "std       0.169544         0.076569      0.462799     0.158280    44.591284   \n",
       "min       0.000000         0.000000      0.000000     0.000000   107.000000   \n",
       "25%       0.000000         0.000000      0.000000     0.000000   206.000000   \n",
       "50%       0.000000         0.000000      0.000000     0.000000   234.000000   \n",
       "75%       0.000000         0.000000      1.000000     0.000000   263.000000   \n",
       "max       1.000000         1.000000      1.000000     1.000000   696.000000   \n",
       "\n",
       "             sysBP        diaBP          BMI    heartRate      glucose  \\\n",
       "count  4240.000000  4240.000000  4221.000000  4239.000000  3852.000000   \n",
       "mean    132.354599    82.897759    25.800801    75.878981    81.963655   \n",
       "std      22.033300    11.910394     4.079840    12.025348    23.954335   \n",
       "min      83.500000    48.000000    15.540000    44.000000    40.000000   \n",
       "25%     117.000000    75.000000    23.070000    68.000000    71.000000   \n",
       "50%     128.000000    82.000000    25.400000    75.000000    78.000000   \n",
       "75%     144.000000    90.000000    28.040000    83.000000    87.000000   \n",
       "max     295.000000   142.500000    56.800000   143.000000   394.000000   \n",
       "\n",
       "        TenYearCHD  \n",
       "count  4240.000000  \n",
       "mean      0.151887  \n",
       "std       0.358953  \n",
       "min       0.000000  \n",
       "25%       0.000000  \n",
       "50%       0.000000  \n",
       "75%       0.000000  \n",
       "max       1.000000  "
      ]
     },
     "execution_count": 28,
     "metadata": {},
     "output_type": "execute_result"
    }
   ],
   "source": [
    "data.describe()"
   ]
  },
  {
   "cell_type": "markdown",
   "id": "566c6b18",
   "metadata": {},
   "source": [
    "## Overall Interpretation\n",
    "\n",
    "- The population is **middle-aged (32–70)**, almost half male.  \n",
    "- About **50% smoke**, with a subgroup smoking heavily (**20+ cigs/day**).  \n",
    "- Around **31% hypertensive** and **3% diabetic**.  \n",
    "- **Cholesterol and blood pressure are generally high**, indicating cardiovascular risk factors.  \n",
    "- **Average BMI ≈ 26** → slightly overweight overall.  \n",
    "- About **15%** actually had **CHD events within 10 years**, aligning with the dataset’s goal (predicting CHD risk).\n"
   ]
  },
  {
   "cell_type": "markdown",
   "id": "bc3095e5",
   "metadata": {},
   "source": [
    "#### Remove the duplicates"
   ]
  },
  {
   "cell_type": "code",
   "execution_count": 36,
   "id": "cc2ee57a",
   "metadata": {},
   "outputs": [],
   "source": [
    "duplicate = data.duplicated()\n",
    "data = data[~duplicate]"
   ]
  },
  {
   "cell_type": "code",
   "execution_count": null,
   "id": "748e6c79",
   "metadata": {},
   "outputs": [
    {
     "name": "stdout",
     "output_type": "stream",
     "text": [
      "male                 0\n",
      "age                  0\n",
      "education          105\n",
      "currentSmoker        0\n",
      "cigsPerDay          29\n",
      "BPMeds              53\n",
      "prevalentStroke      0\n",
      "prevalentHyp         0\n",
      "diabetes             0\n",
      "totChol             50\n",
      "sysBP                0\n",
      "diaBP                0\n",
      "BMI                 19\n",
      "heartRate            1\n",
      "glucose            388\n",
      "TenYearCHD           0\n",
      "dtype: int64\n"
     ]
    }
   ],
   "source": [
    "missing_values = data.isnull().sum()\n",
    "\n",
    "print(missing_values)\n"
   ]
  },
  {
   "cell_type": "code",
   "execution_count": 43,
   "id": "9c478a22",
   "metadata": {},
   "outputs": [],
   "source": [
    "log_reg_pipeline = Pipeline(\n",
    "    steps=[\n",
    "        ('imputer', SimpleImputer(strategy='median')),\n",
    "        ('scaler', StandardScaler()),\n",
    "        ('classifier', LogisticRegression(max_iter=1000, random_state=42))\n",
    "    ]\n",
    ")\n",
    "\n",
    "rand_for_pipeline = Pipeline(steps=[\n",
    "   (\"imputer\", SimpleImputer(strategy=\"median\", add_indicator=True)),\n",
    "   (\"scaler\", StandardScaler()),\n",
    "   (\"classifier\", RandomForestClassifier(random_state=42))\n",
    "])"
   ]
  },
  {
   "cell_type": "code",
   "execution_count": 65,
   "id": "3aa7396d",
   "metadata": {},
   "outputs": [
    {
     "data": {
      "image/png": "[encoded data removed]",
      "text/plain": [
       "<Figure size 1000x600 with 2 Axes>"
      ]
     },
     "metadata": {},
     "output_type": "display_data"
    }
   ],
   "source": [
    "selected_columns = ['sysBP', 'diaBP', 'age', 'BMI', 'glucose','totChol','diabetes', 'BPMeds', 'MAP']\n",
    "corr_subset = data[selected_columns].corr()\n",
    "\n",
    "plt.figure(figsize=(10, 6))\n",
    "sns.heatmap(corr_subset, annot=True, cmap='coolwarm', center=0, fmt='.2f')\n",
    "plt.title('Correlation Heatmap of Selected Features')\n",
    "plt.tight_layout()\n",
    "plt.show()"
   ]
  },
  {
   "cell_type": "code",
   "execution_count": null,
   "id": "4e19134e",
   "metadata": {},
   "outputs": [],
   "source": [
    "data['MAP'] = (2 * data['diaBP'] + data['sysBP']) / 3"
   ]
  },
  {
   "cell_type": "code",
   "execution_count": 72,
   "id": "4373cdc3",
   "metadata": {},
   "outputs": [
    {
     "data": {
      "text/plain": [
       "Index(['male', 'age', 'education', 'currentSmoker', 'cigsPerDay', 'BPMeds',\n",
       "       'prevalentStroke', 'prevalentHyp', 'diabetes', 'totChol', 'sysBP',\n",
       "       'diaBP', 'BMI', 'heartRate', 'glucose', 'TenYearCHD', 'MAP'],\n",
       "      dtype='object')"
      ]
     },
     "execution_count": 72,
     "metadata": {},
     "output_type": "execute_result"
    }
   ],
   "source": [
    "log_reg_features = data.copy()\n",
    "\n",
    "log_reg_features.columns"
   ]
  },
  {
   "cell_type": "code",
   "execution_count": 67,
   "id": "b7a8e55e",
   "metadata": {},
   "outputs": [],
   "source": [
    "rand_for_features = data.copy()"
   ]
  },
  {
   "cell_type": "code",
   "execution_count": null,
   "id": "aa6d678e",
   "metadata": {},
   "outputs": [],
   "source": [
    "data['Age_Group'] = pd.cut(\n",
    "    data['age'],\n",
    "    bins=[29, 39, 49, 59, 70],\n",
    "    labels=['Young Adult (30–39)', 'Middle Age I (40–49)', 'Middle Age II (50–59)', 'Senior (60–70)']\n",
    ")\n",
    "\n",
    "log_reg_features['Age_Group'] = data['Age_Group']\n"
   ]
  },
  {
   "cell_type": "code",
   "execution_count": 84,
   "id": "87940993",
   "metadata": {},
   "outputs": [],
   "source": [
    "data['HeavySmoker'] = (data['cigsPerDay'] > 20).astype(int)\n",
    "data['PackYears'] = (data['cigsPerDay'] / 20) * (data['age'] - 18)\n",
    "data['glucose_missing'] = data['glucose'].isnull().astype(int)"
   ]
  },
  {
   "cell_type": "code",
   "execution_count": 87,
   "id": "49d2e10b",
   "metadata": {},
   "outputs": [
    {
     "data": {
      "text/plain": [
       "glucose_missing\n",
       "0    3852\n",
       "1     388\n",
       "Name: count, dtype: int64"
      ]
     },
     "execution_count": 87,
     "metadata": {},
     "output_type": "execute_result"
    }
   ],
   "source": [
    "data['glucose_missing'].value_counts()"
   ]
  },
  {
   "cell_type": "code",
   "execution_count": 95,
   "id": "cc57bde0",
   "metadata": {},
   "outputs": [
    {
     "data": {
      "text/plain": [
       "(array([  6.,  60., 176., 314., 366., 339., 328., 323., 305., 140., 295.,\n",
       "        271., 268., 240., 230., 209., 203.,  95.,  63.,   9.]),\n",
       " array([32. , 33.9, 35.8, 37.7, 39.6, 41.5, 43.4, 45.3, 47.2, 49.1, 51. ,\n",
       "        52.9, 54.8, 56.7, 58.6, 60.5, 62.4, 64.3, 66.2, 68.1, 70. ]),\n",
       " <BarContainer object of 20 artists>)"
      ]
     },
     "execution_count": 95,
     "metadata": {},
     "output_type": "execute_result"
    },
    {
     "data": {
      "image/png": "[encoded data removed]",
      "text/plain": [
       "<Figure size 640x480 with 1 Axes>"
      ]
     },
     "metadata": {},
     "output_type": "display_data"
    }
   ],
   "source": [
    "plt.hist(data['age'], bins=20, color='#FF5733')"
   ]
  },
  {
   "cell_type": "code",
   "execution_count": 97,
   "id": "29e57e8a",
   "metadata": {},
   "outputs": [
    {
     "data": {
      "text/plain": [
       "(array([2.413e+03, 2.740e+02, 3.730e+02, 3.610e+02, 2.840e+02, 2.220e+02,\n",
       "        1.070e+02, 6.500e+01, 5.000e+01, 1.900e+01, 1.400e+01, 1.400e+01,\n",
       "        6.000e+00, 5.000e+00, 0.000e+00, 1.000e+00, 2.000e+00, 0.000e+00,\n",
       "        0.000e+00, 1.000e+00]),\n",
       " array([  0.  ,   7.35,  14.7 ,  22.05,  29.4 ,  36.75,  44.1 ,  51.45,\n",
       "         58.8 ,  66.15,  73.5 ,  80.85,  88.2 ,  95.55, 102.9 , 110.25,\n",
       "        117.6 , 124.95, 132.3 , 139.65, 147.  ]),\n",
       " <BarContainer object of 20 artists>)"
      ]
     },
     "execution_count": 97,
     "metadata": {},
     "output_type": "execute_result"
    },
    {
     "data": {
      "image/png": "[encoded data removed]",
      "text/plain": [
       "<Figure size 640x480 with 1 Axes>"
      ]
     },
     "metadata": {},
     "output_type": "display_data"
    }
   ],
   "source": [
    "plt.hist(data['PackYears'], bins=20, color='#FF5733')"
   ]
  },
  {
   "cell_type": "code",
   "execution_count": 99,
   "id": "323dc471",
   "metadata": {},
   "outputs": [
    {
     "data": {
      "text/plain": [
       "(array([ 22., 136., 432., 779., 946., 805., 561., 263., 130.,  66.,  25.,\n",
       "         33.,  10.,   7.,   4.,   0.,   0.,   1.,   0.,   1.]),\n",
       " array([15.54 , 17.603, 19.666, 21.729, 23.792, 25.855, 27.918, 29.981,\n",
       "        32.044, 34.107, 36.17 , 38.233, 40.296, 42.359, 44.422, 46.485,\n",
       "        48.548, 50.611, 52.674, 54.737, 56.8  ]),\n",
       " <BarContainer object of 20 artists>)"
      ]
     },
     "execution_count": 99,
     "metadata": {},
     "output_type": "execute_result"
    },
    {
     "data": {
      "image/png": "[encoded data removed]",
      "text/plain": [
       "<Figure size 640x480 with 1 Axes>"
      ]
     },
     "metadata": {},
     "output_type": "display_data"
    }
   ],
   "source": [
    "plt.hist(data['BMI'], bins=20, color='#FF5733')"
   ]
  },
  {
   "cell_type": "code",
   "execution_count": 101,
   "id": "ad191e89",
   "metadata": {},
   "outputs": [
    {
     "data": {
      "text/plain": [
       "Index(['male', 'age', 'education', 'currentSmoker', 'cigsPerDay', 'BPMeds',\n",
       "       'prevalentStroke', 'prevalentHyp', 'diabetes', 'totChol', 'sysBP',\n",
       "       'diaBP', 'BMI', 'heartRate', 'glucose', 'TenYearCHD', 'MAP',\n",
       "       'Age_Group', 'HeavySmoker', 'PackYears', 'glucose_missing'],\n",
       "      dtype='object')"
      ]
     },
     "execution_count": 101,
     "metadata": {},
     "output_type": "execute_result"
    }
   ],
   "source": [
    "data.columns"
   ]
  },
  {
   "cell_type": "code",
   "execution_count": 103,
   "id": "cce5659a",
   "metadata": {},
   "outputs": [
    {
     "data": {
      "text/plain": [
       "(array([ 10.,  51., 140., 398., 580., 681., 790., 567., 400., 246., 172.,\n",
       "        114.,  31.,  39.,   5.,   9.,   3.,   1.,   0.,   2.]),\n",
       " array([ 44.  ,  48.95,  53.9 ,  58.85,  63.8 ,  68.75,  73.7 ,  78.65,\n",
       "         83.6 ,  88.55,  93.5 ,  98.45, 103.4 , 108.35, 113.3 , 118.25,\n",
       "        123.2 , 128.15, 133.1 , 138.05, 143.  ]),\n",
       " <BarContainer object of 20 artists>)"
      ]
     },
     "execution_count": 103,
     "metadata": {},
     "output_type": "execute_result"
    },
    {
     "data": {
      "image/png": "[encoded data removed]",
      "text/plain": [
       "<Figure size 640x480 with 1 Axes>"
      ]
     },
     "metadata": {},
     "output_type": "display_data"
    }
   ],
   "source": [
    "plt.hist(data['heartRate'], bins=20, color='#FF5733')"
   ]
  },
  {
   "cell_type": "code",
   "execution_count": 105,
   "id": "d1e8d8b4",
   "metadata": {},
   "outputs": [
    {
     "data": {
      "text/plain": [
       "(array([  7.,  66., 240., 549., 769., 850., 648., 439., 265., 178.,  99.,\n",
       "         66.,  25.,  23.,   5.,   6.,   3.,   0.,   1.,   1.]),\n",
       " array([ 62.5       ,  68.79166667,  75.08333333,  81.375     ,\n",
       "         87.66666667,  93.95833333, 100.25      , 106.54166667,\n",
       "        112.83333333, 119.125     , 125.41666667, 131.70833333,\n",
       "        138.        , 144.29166667, 150.58333333, 156.875     ,\n",
       "        163.16666667, 169.45833333, 175.75      , 182.04166667,\n",
       "        188.33333333]),\n",
       " <BarContainer object of 20 artists>)"
      ]
     },
     "execution_count": 105,
     "metadata": {},
     "output_type": "execute_result"
    },
    {
     "data": {
      "image/png": "[encoded data removed]",
      "text/plain": [
       "<Figure size 640x480 with 1 Axes>"
      ]
     },
     "metadata": {},
     "output_type": "display_data"
    }
   ],
   "source": [
    "plt.hist(data['MAP'], bins=20, color='#FF5733')"
   ]
  },
  {
   "cell_type": "code",
   "execution_count": null,
   "id": "e57e3abe",
   "metadata": {},
   "outputs": [
    {
     "data": {
      "image/png": "[encoded data removed]",
      "text/plain": [
       "<Figure size 1000x600 with 1 Axes>"
      ]
     },
     "metadata": {},
     "output_type": "display_data"
    },
    {
     "name": "stdout",
     "output_type": "stream",
     "text": [
      "Percentage of observations detected as outliers: 14.83%\n"
     ]
    }
   ],
   "source": [
    "from sklearn.ensemble import IsolationForest\n",
    "import matplotlib.pyplot as plt\n",
    "\n",
    "features = ['age', 'cigsPerDay', 'totChol', 'sysBP', 'diaBP', 'BMI', 'heartRate', 'glucose', \"BMI\", 'MAP', 'heartRate', 'PackYears']\n",
    "X = data[features].dropna()\n",
    "\n",
    "clf = IsolationForest(n_estimators=100, contamination=0.05, random_state=42)\n",
    "outliers = clf.fit_predict(X)\n",
    "\n",
    "data['outlier_IF'] = 0\n",
    "data.loc[X.index, 'outlier_IF'] = (outliers == 1).astype(int)\n",
    "\n",
    "plt.figure(figsize=(10, 6))\n",
    "sns.countplot(x='outlier_IF', data=data, palette='viridis')\n",
    "plt.title('Distribution of Inliers (1) vs Outliers (0)')\n",
    "plt.xlabel('Outlier Status')\n",
    "plt.xticks([0, 1], ['Outlier', 'Inlier'])\n",
    "plt.ylabel('Count')\n",
    "plt.show()\n",
    "\n",
    "pct_outliers = (data['outlier_IF'] == 0).mean() * 100\n",
    "print(f\"Percentage of observations detected as outliers: {pct_outliers:.2f}%\")"
   ]
  },
  {
   "cell_type": "code",
   "execution_count": 116,
   "id": "25454343",
   "metadata": {},
   "outputs": [
    {
     "data": {
      "image/png": "[encoded data removed]",
      "text/plain": [
       "<Figure size 1000x600 with 1 Axes>"
      ]
     },
     "metadata": {},
     "output_type": "display_data"
    },
    {
     "name": "stdout",
     "output_type": "stream",
     "text": [
      "Percentage of observations with at least one outlier: 14.17%\n"
     ]
    }
   ],
   "source": [
    "outlier_flags = pd.DataFrame(index=data.index)\n",
    "\n",
    "\n",
    "for col in features:\n",
    "    Q1 = data[col].quantile(0.25)\n",
    "    Q3 = data[col].quantile(0.75)\n",
    "    IQR = Q3 - Q1\n",
    "    lower_bound = Q1 - 1.5 * IQR\n",
    "    upper_bound = Q3 + 1.5 * IQR\n",
    "    outlier_flags[col] = (data[col] < lower_bound) | (data[col] > upper_bound)\n",
    "\n",
    "data['outlier_count'] = outlier_flags.sum(axis=1)\n",
    "\n",
    "plt.figure(figsize=(10, 6))\n",
    "sns.countplot(x='outlier_count', data=data, palette='viridis')\n",
    "plt.title('Distribution of Number of Outliers per Observation')\n",
    "plt.xlabel('Number of Outlying Features')\n",
    "plt.ylabel('Count')\n",
    "plt.show()\n",
    "\n",
    "pct_outliers = (data['outlier_count'] > 0).mean() * 100\n",
    "print(f\"Percentage of observations with at least one outlier: {pct_outliers:.2f}%\")"
   ]
  }
 ],
 "metadata": {
  "kernelspec": {
   "display_name": ".venv",
   "language": "python",
   "name": "python3"
  },
  "language_info": {
   "codemirror_mode": {
    "name": "ipython",
    "version": 3
   },
   "file_extension": ".py",
   "mimetype": "text/x-python",
   "name": "python",
   "nbconvert_exporter": "python",
   "pygments_lexer": "ipython3",
   "version": "3.9.13"
  }
 },
 "nbformat": 4,
 "nbformat_minor": 5
}
